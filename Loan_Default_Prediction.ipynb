{
 "cells": [
  {
   "cell_type": "markdown",
   "id": "37e62066",
   "metadata": {},
   "source": [
    "## Problem Definition¶\n",
    "\n",
    "The goal of this project is to analyze and address the challenges associated with loan defaults in the context of our lending institution. By leveraging data analysis and predictive modeling techniques, the project aims to optimize the loan approval process and reduce the risk of defaults."
   ]
  },
  {
   "cell_type": "code",
   "execution_count": 1,
   "id": "77ae836e",
   "metadata": {},
   "outputs": [],
   "source": [
    "import numpy as np \n",
    "import pandas as pd \n",
    "import seaborn as sns\n",
    "import matplotlib.pyplot as plt\n",
    "from sklearn.metrics import accuracy_score,f1_score,precision_score, recall_score\n",
    "from sklearn.linear_model import LogisticRegression\n",
    "from sklearn.tree import DecisionTreeClassifier\n",
    "from sklearn.neighbors import KNeighborsClassifier\n",
    "from sklearn.naive_bayes import GaussianNB\n",
    "from xgboost import XGBClassifier\n",
    "#from lightgbm import LGBMClassifier  \n",
    "#from catboost import CatBoostClassifier\n",
    "from sklearn.model_selection import train_test_split\n",
    "from sklearn.model_selection import cross_val_score\n",
    "from sklearn.preprocessing import LabelEncoder\n",
    "from imblearn.over_sampling import RandomOverSampler,SMOTE\n",
    "from collections import Counter\n",
    "import warnings\n",
    "warnings.filterwarnings(\"ignore\")\n",
    "\n",
    "\n",
    "from sklearn.pipeline import Pipeline\n",
    "from sklearn.experimental import enable_iterative_imputer  \n",
    "from sklearn.impute import IterativeImputer\n",
    "from sklearn.preprocessing import StandardScaler\n"
   ]
  },
  {
   "cell_type": "markdown",
   "id": "c8defb90",
   "metadata": {},
   "source": [
    "## Data Insights "
   ]
  },
  {
   "cell_type": "code",
   "execution_count": 2,
   "id": "fb98e587",
   "metadata": {},
   "outputs": [
    {
     "data": {
      "text/html": [
       "<div>\n",
       "<style scoped>\n",
       "    .dataframe tbody tr th:only-of-type {\n",
       "        vertical-align: middle;\n",
       "    }\n",
       "\n",
       "    .dataframe tbody tr th {\n",
       "        vertical-align: top;\n",
       "    }\n",
       "\n",
       "    .dataframe thead th {\n",
       "        text-align: right;\n",
       "    }\n",
       "</style>\n",
       "<table border=\"1\" class=\"dataframe\">\n",
       "  <thead>\n",
       "    <tr style=\"text-align: right;\">\n",
       "      <th></th>\n",
       "      <th>ID</th>\n",
       "      <th>year</th>\n",
       "      <th>loan_limit</th>\n",
       "      <th>Gender</th>\n",
       "      <th>approv_in_adv</th>\n",
       "      <th>loan_type</th>\n",
       "      <th>loan_purpose</th>\n",
       "      <th>Credit_Worthiness</th>\n",
       "      <th>open_credit</th>\n",
       "      <th>business_or_commercial</th>\n",
       "      <th>...</th>\n",
       "      <th>credit_type</th>\n",
       "      <th>Credit_Score</th>\n",
       "      <th>co-applicant_credit_type</th>\n",
       "      <th>age</th>\n",
       "      <th>submission_of_application</th>\n",
       "      <th>LTV</th>\n",
       "      <th>Region</th>\n",
       "      <th>Security_Type</th>\n",
       "      <th>Status</th>\n",
       "      <th>dtir1</th>\n",
       "    </tr>\n",
       "  </thead>\n",
       "  <tbody>\n",
       "    <tr>\n",
       "      <th>0</th>\n",
       "      <td>24890</td>\n",
       "      <td>2019</td>\n",
       "      <td>cf</td>\n",
       "      <td>Sex Not Available</td>\n",
       "      <td>nopre</td>\n",
       "      <td>type1</td>\n",
       "      <td>p1</td>\n",
       "      <td>l1</td>\n",
       "      <td>nopc</td>\n",
       "      <td>nob/c</td>\n",
       "      <td>...</td>\n",
       "      <td>EXP</td>\n",
       "      <td>758</td>\n",
       "      <td>CIB</td>\n",
       "      <td>25-34</td>\n",
       "      <td>to_inst</td>\n",
       "      <td>98.728814</td>\n",
       "      <td>south</td>\n",
       "      <td>direct</td>\n",
       "      <td>1</td>\n",
       "      <td>45.0</td>\n",
       "    </tr>\n",
       "    <tr>\n",
       "      <th>1</th>\n",
       "      <td>24891</td>\n",
       "      <td>2019</td>\n",
       "      <td>cf</td>\n",
       "      <td>Male</td>\n",
       "      <td>nopre</td>\n",
       "      <td>type2</td>\n",
       "      <td>p1</td>\n",
       "      <td>l1</td>\n",
       "      <td>nopc</td>\n",
       "      <td>b/c</td>\n",
       "      <td>...</td>\n",
       "      <td>EQUI</td>\n",
       "      <td>552</td>\n",
       "      <td>EXP</td>\n",
       "      <td>55-64</td>\n",
       "      <td>to_inst</td>\n",
       "      <td>NaN</td>\n",
       "      <td>North</td>\n",
       "      <td>direct</td>\n",
       "      <td>1</td>\n",
       "      <td>NaN</td>\n",
       "    </tr>\n",
       "    <tr>\n",
       "      <th>2</th>\n",
       "      <td>24892</td>\n",
       "      <td>2019</td>\n",
       "      <td>cf</td>\n",
       "      <td>Male</td>\n",
       "      <td>pre</td>\n",
       "      <td>type1</td>\n",
       "      <td>p1</td>\n",
       "      <td>l1</td>\n",
       "      <td>nopc</td>\n",
       "      <td>nob/c</td>\n",
       "      <td>...</td>\n",
       "      <td>EXP</td>\n",
       "      <td>834</td>\n",
       "      <td>CIB</td>\n",
       "      <td>35-44</td>\n",
       "      <td>to_inst</td>\n",
       "      <td>80.019685</td>\n",
       "      <td>south</td>\n",
       "      <td>direct</td>\n",
       "      <td>0</td>\n",
       "      <td>46.0</td>\n",
       "    </tr>\n",
       "    <tr>\n",
       "      <th>3</th>\n",
       "      <td>24893</td>\n",
       "      <td>2019</td>\n",
       "      <td>cf</td>\n",
       "      <td>Male</td>\n",
       "      <td>nopre</td>\n",
       "      <td>type1</td>\n",
       "      <td>p4</td>\n",
       "      <td>l1</td>\n",
       "      <td>nopc</td>\n",
       "      <td>nob/c</td>\n",
       "      <td>...</td>\n",
       "      <td>EXP</td>\n",
       "      <td>587</td>\n",
       "      <td>CIB</td>\n",
       "      <td>45-54</td>\n",
       "      <td>not_inst</td>\n",
       "      <td>69.376900</td>\n",
       "      <td>North</td>\n",
       "      <td>direct</td>\n",
       "      <td>0</td>\n",
       "      <td>42.0</td>\n",
       "    </tr>\n",
       "    <tr>\n",
       "      <th>4</th>\n",
       "      <td>24894</td>\n",
       "      <td>2019</td>\n",
       "      <td>cf</td>\n",
       "      <td>Joint</td>\n",
       "      <td>pre</td>\n",
       "      <td>type1</td>\n",
       "      <td>p1</td>\n",
       "      <td>l1</td>\n",
       "      <td>nopc</td>\n",
       "      <td>nob/c</td>\n",
       "      <td>...</td>\n",
       "      <td>CRIF</td>\n",
       "      <td>602</td>\n",
       "      <td>EXP</td>\n",
       "      <td>25-34</td>\n",
       "      <td>not_inst</td>\n",
       "      <td>91.886544</td>\n",
       "      <td>North</td>\n",
       "      <td>direct</td>\n",
       "      <td>0</td>\n",
       "      <td>39.0</td>\n",
       "    </tr>\n",
       "  </tbody>\n",
       "</table>\n",
       "<p>5 rows × 34 columns</p>\n",
       "</div>"
      ],
      "text/plain": [
       "      ID  year loan_limit             Gender approv_in_adv loan_type  \\\n",
       "0  24890  2019         cf  Sex Not Available         nopre     type1   \n",
       "1  24891  2019         cf               Male         nopre     type2   \n",
       "2  24892  2019         cf               Male           pre     type1   \n",
       "3  24893  2019         cf               Male         nopre     type1   \n",
       "4  24894  2019         cf              Joint           pre     type1   \n",
       "\n",
       "  loan_purpose Credit_Worthiness open_credit business_or_commercial  ...  \\\n",
       "0           p1                l1        nopc                  nob/c  ...   \n",
       "1           p1                l1        nopc                    b/c  ...   \n",
       "2           p1                l1        nopc                  nob/c  ...   \n",
       "3           p4                l1        nopc                  nob/c  ...   \n",
       "4           p1                l1        nopc                  nob/c  ...   \n",
       "\n",
       "   credit_type  Credit_Score  co-applicant_credit_type    age  \\\n",
       "0          EXP           758                       CIB  25-34   \n",
       "1         EQUI           552                       EXP  55-64   \n",
       "2          EXP           834                       CIB  35-44   \n",
       "3          EXP           587                       CIB  45-54   \n",
       "4         CRIF           602                       EXP  25-34   \n",
       "\n",
       "   submission_of_application        LTV Region Security_Type  Status dtir1  \n",
       "0                    to_inst  98.728814  south        direct       1  45.0  \n",
       "1                    to_inst        NaN  North        direct       1   NaN  \n",
       "2                    to_inst  80.019685  south        direct       0  46.0  \n",
       "3                   not_inst  69.376900  North        direct       0  42.0  \n",
       "4                   not_inst  91.886544  North        direct       0  39.0  \n",
       "\n",
       "[5 rows x 34 columns]"
      ]
     },
     "execution_count": 2,
     "metadata": {},
     "output_type": "execute_result"
    }
   ],
   "source": [
    "df = pd.read_csv('data/Loan_Default.csv')\n",
    "df.head()"
   ]
  },
  {
   "cell_type": "code",
   "execution_count": 4,
   "id": "547009c6",
   "metadata": {},
   "outputs": [
    {
     "name": "stdout",
     "output_type": "stream",
     "text": [
      "<class 'pandas.core.frame.DataFrame'>\n",
      "RangeIndex: 148670 entries, 0 to 148669\n",
      "Data columns (total 34 columns):\n",
      " #   Column                     Non-Null Count   Dtype  \n",
      "---  ------                     --------------   -----  \n",
      " 0   ID                         148670 non-null  int64  \n",
      " 1   year                       148670 non-null  int64  \n",
      " 2   loan_limit                 145326 non-null  object \n",
      " 3   Gender                     148670 non-null  object \n",
      " 4   approv_in_adv              147762 non-null  object \n",
      " 5   loan_type                  148670 non-null  object \n",
      " 6   loan_purpose               148536 non-null  object \n",
      " 7   Credit_Worthiness          148670 non-null  object \n",
      " 8   open_credit                148670 non-null  object \n",
      " 9   business_or_commercial     148670 non-null  object \n",
      " 10  loan_amount                148670 non-null  int64  \n",
      " 11  rate_of_interest           112231 non-null  float64\n",
      " 12  Interest_rate_spread       112031 non-null  float64\n",
      " 13  Upfront_charges            109028 non-null  float64\n",
      " 14  term                       148629 non-null  float64\n",
      " 15  Neg_ammortization          148549 non-null  object \n",
      " 16  interest_only              148670 non-null  object \n",
      " 17  lump_sum_payment           148670 non-null  object \n",
      " 18  property_value             133572 non-null  float64\n",
      " 19  construction_type          148670 non-null  object \n",
      " 20  occupancy_type             148670 non-null  object \n",
      " 21  Secured_by                 148670 non-null  object \n",
      " 22  total_units                148670 non-null  object \n",
      " 23  income                     139520 non-null  float64\n",
      " 24  credit_type                148670 non-null  object \n",
      " 25  Credit_Score               148670 non-null  int64  \n",
      " 26  co-applicant_credit_type   148670 non-null  object \n",
      " 27  age                        148470 non-null  object \n",
      " 28  submission_of_application  148470 non-null  object \n",
      " 29  LTV                        133572 non-null  float64\n",
      " 30  Region                     148670 non-null  object \n",
      " 31  Security_Type              148670 non-null  object \n",
      " 32  Status                     148670 non-null  int64  \n",
      " 33  dtir1                      124549 non-null  float64\n",
      "dtypes: float64(8), int64(5), object(21)\n",
      "memory usage: 38.6+ MB\n"
     ]
    }
   ],
   "source": [
    "df.info()"
   ]
  },
  {
   "cell_type": "code",
   "execution_count": 5,
   "id": "b73f38fb",
   "metadata": {},
   "outputs": [
    {
     "data": {
      "text/html": [
       "<div>\n",
       "<style scoped>\n",
       "    .dataframe tbody tr th:only-of-type {\n",
       "        vertical-align: middle;\n",
       "    }\n",
       "\n",
       "    .dataframe tbody tr th {\n",
       "        vertical-align: top;\n",
       "    }\n",
       "\n",
       "    .dataframe thead th {\n",
       "        text-align: right;\n",
       "    }\n",
       "</style>\n",
       "<table border=\"1\" class=\"dataframe\">\n",
       "  <thead>\n",
       "    <tr style=\"text-align: right;\">\n",
       "      <th></th>\n",
       "      <th>ID</th>\n",
       "      <th>year</th>\n",
       "      <th>loan_amount</th>\n",
       "      <th>rate_of_interest</th>\n",
       "      <th>Interest_rate_spread</th>\n",
       "      <th>Upfront_charges</th>\n",
       "      <th>term</th>\n",
       "      <th>property_value</th>\n",
       "      <th>income</th>\n",
       "      <th>Credit_Score</th>\n",
       "      <th>LTV</th>\n",
       "      <th>Status</th>\n",
       "      <th>dtir1</th>\n",
       "    </tr>\n",
       "  </thead>\n",
       "  <tbody>\n",
       "    <tr>\n",
       "      <th>count</th>\n",
       "      <td>148670.000000</td>\n",
       "      <td>148670.0</td>\n",
       "      <td>1.486700e+05</td>\n",
       "      <td>112231.000000</td>\n",
       "      <td>112031.000000</td>\n",
       "      <td>109028.000000</td>\n",
       "      <td>148629.000000</td>\n",
       "      <td>1.335720e+05</td>\n",
       "      <td>139520.000000</td>\n",
       "      <td>148670.000000</td>\n",
       "      <td>133572.000000</td>\n",
       "      <td>148670.000000</td>\n",
       "      <td>124549.000000</td>\n",
       "    </tr>\n",
       "    <tr>\n",
       "      <th>mean</th>\n",
       "      <td>99224.500000</td>\n",
       "      <td>2019.0</td>\n",
       "      <td>3.311177e+05</td>\n",
       "      <td>4.045476</td>\n",
       "      <td>0.441656</td>\n",
       "      <td>3224.996127</td>\n",
       "      <td>335.136582</td>\n",
       "      <td>4.978935e+05</td>\n",
       "      <td>6957.338876</td>\n",
       "      <td>699.789103</td>\n",
       "      <td>72.746457</td>\n",
       "      <td>0.246445</td>\n",
       "      <td>37.732932</td>\n",
       "    </tr>\n",
       "    <tr>\n",
       "      <th>std</th>\n",
       "      <td>42917.476598</td>\n",
       "      <td>0.0</td>\n",
       "      <td>1.839093e+05</td>\n",
       "      <td>0.561391</td>\n",
       "      <td>0.513043</td>\n",
       "      <td>3251.121510</td>\n",
       "      <td>58.409084</td>\n",
       "      <td>3.599353e+05</td>\n",
       "      <td>6496.586382</td>\n",
       "      <td>115.875857</td>\n",
       "      <td>39.967603</td>\n",
       "      <td>0.430942</td>\n",
       "      <td>10.545435</td>\n",
       "    </tr>\n",
       "    <tr>\n",
       "      <th>min</th>\n",
       "      <td>24890.000000</td>\n",
       "      <td>2019.0</td>\n",
       "      <td>1.650000e+04</td>\n",
       "      <td>0.000000</td>\n",
       "      <td>-3.638000</td>\n",
       "      <td>0.000000</td>\n",
       "      <td>96.000000</td>\n",
       "      <td>8.000000e+03</td>\n",
       "      <td>0.000000</td>\n",
       "      <td>500.000000</td>\n",
       "      <td>0.967478</td>\n",
       "      <td>0.000000</td>\n",
       "      <td>5.000000</td>\n",
       "    </tr>\n",
       "    <tr>\n",
       "      <th>25%</th>\n",
       "      <td>62057.250000</td>\n",
       "      <td>2019.0</td>\n",
       "      <td>1.965000e+05</td>\n",
       "      <td>3.625000</td>\n",
       "      <td>0.076000</td>\n",
       "      <td>581.490000</td>\n",
       "      <td>360.000000</td>\n",
       "      <td>2.680000e+05</td>\n",
       "      <td>3720.000000</td>\n",
       "      <td>599.000000</td>\n",
       "      <td>60.474860</td>\n",
       "      <td>0.000000</td>\n",
       "      <td>31.000000</td>\n",
       "    </tr>\n",
       "    <tr>\n",
       "      <th>50%</th>\n",
       "      <td>99224.500000</td>\n",
       "      <td>2019.0</td>\n",
       "      <td>2.965000e+05</td>\n",
       "      <td>3.990000</td>\n",
       "      <td>0.390400</td>\n",
       "      <td>2596.450000</td>\n",
       "      <td>360.000000</td>\n",
       "      <td>4.180000e+05</td>\n",
       "      <td>5760.000000</td>\n",
       "      <td>699.000000</td>\n",
       "      <td>75.135870</td>\n",
       "      <td>0.000000</td>\n",
       "      <td>39.000000</td>\n",
       "    </tr>\n",
       "    <tr>\n",
       "      <th>75%</th>\n",
       "      <td>136391.750000</td>\n",
       "      <td>2019.0</td>\n",
       "      <td>4.365000e+05</td>\n",
       "      <td>4.375000</td>\n",
       "      <td>0.775400</td>\n",
       "      <td>4812.500000</td>\n",
       "      <td>360.000000</td>\n",
       "      <td>6.280000e+05</td>\n",
       "      <td>8520.000000</td>\n",
       "      <td>800.000000</td>\n",
       "      <td>86.184211</td>\n",
       "      <td>0.000000</td>\n",
       "      <td>45.000000</td>\n",
       "    </tr>\n",
       "    <tr>\n",
       "      <th>max</th>\n",
       "      <td>173559.000000</td>\n",
       "      <td>2019.0</td>\n",
       "      <td>3.576500e+06</td>\n",
       "      <td>8.000000</td>\n",
       "      <td>3.357000</td>\n",
       "      <td>60000.000000</td>\n",
       "      <td>360.000000</td>\n",
       "      <td>1.650800e+07</td>\n",
       "      <td>578580.000000</td>\n",
       "      <td>900.000000</td>\n",
       "      <td>7831.250000</td>\n",
       "      <td>1.000000</td>\n",
       "      <td>61.000000</td>\n",
       "    </tr>\n",
       "  </tbody>\n",
       "</table>\n",
       "</div>"
      ],
      "text/plain": [
       "                  ID      year   loan_amount  rate_of_interest  \\\n",
       "count  148670.000000  148670.0  1.486700e+05     112231.000000   \n",
       "mean    99224.500000    2019.0  3.311177e+05          4.045476   \n",
       "std     42917.476598       0.0  1.839093e+05          0.561391   \n",
       "min     24890.000000    2019.0  1.650000e+04          0.000000   \n",
       "25%     62057.250000    2019.0  1.965000e+05          3.625000   \n",
       "50%     99224.500000    2019.0  2.965000e+05          3.990000   \n",
       "75%    136391.750000    2019.0  4.365000e+05          4.375000   \n",
       "max    173559.000000    2019.0  3.576500e+06          8.000000   \n",
       "\n",
       "       Interest_rate_spread  Upfront_charges           term  property_value  \\\n",
       "count         112031.000000    109028.000000  148629.000000    1.335720e+05   \n",
       "mean               0.441656      3224.996127     335.136582    4.978935e+05   \n",
       "std                0.513043      3251.121510      58.409084    3.599353e+05   \n",
       "min               -3.638000         0.000000      96.000000    8.000000e+03   \n",
       "25%                0.076000       581.490000     360.000000    2.680000e+05   \n",
       "50%                0.390400      2596.450000     360.000000    4.180000e+05   \n",
       "75%                0.775400      4812.500000     360.000000    6.280000e+05   \n",
       "max                3.357000     60000.000000     360.000000    1.650800e+07   \n",
       "\n",
       "              income   Credit_Score            LTV         Status  \\\n",
       "count  139520.000000  148670.000000  133572.000000  148670.000000   \n",
       "mean     6957.338876     699.789103      72.746457       0.246445   \n",
       "std      6496.586382     115.875857      39.967603       0.430942   \n",
       "min         0.000000     500.000000       0.967478       0.000000   \n",
       "25%      3720.000000     599.000000      60.474860       0.000000   \n",
       "50%      5760.000000     699.000000      75.135870       0.000000   \n",
       "75%      8520.000000     800.000000      86.184211       0.000000   \n",
       "max    578580.000000     900.000000    7831.250000       1.000000   \n",
       "\n",
       "               dtir1  \n",
       "count  124549.000000  \n",
       "mean       37.732932  \n",
       "std        10.545435  \n",
       "min         5.000000  \n",
       "25%        31.000000  \n",
       "50%        39.000000  \n",
       "75%        45.000000  \n",
       "max        61.000000  "
      ]
     },
     "execution_count": 5,
     "metadata": {},
     "output_type": "execute_result"
    }
   ],
   "source": [
    "df.describe()"
   ]
  },
  {
   "cell_type": "code",
   "execution_count": 6,
   "id": "9358cf15",
   "metadata": {},
   "outputs": [],
   "source": [
    "df.columns = [col.lower() for col in df.columns]  #to standartize it "
   ]
  },
  {
   "cell_type": "code",
   "execution_count": 7,
   "id": "dbafe108",
   "metadata": {},
   "outputs": [
    {
     "data": {
      "text/plain": [
       "False    148670\n",
       "dtype: int64"
      ]
     },
     "execution_count": 7,
     "metadata": {},
     "output_type": "execute_result"
    }
   ],
   "source": [
    "df.duplicated().value_counts()"
   ]
  },
  {
   "cell_type": "markdown",
   "id": "cc17320e",
   "metadata": {},
   "source": [
    "There is no duplicates in data "
   ]
  },
  {
   "cell_type": "markdown",
   "id": "6bbeaa9d",
   "metadata": {},
   "source": [
    "Now check the nulls: "
   ]
  },
  {
   "cell_type": "code",
   "execution_count": 9,
   "id": "6e054cf1",
   "metadata": {},
   "outputs": [
    {
     "data": {
      "text/plain": [
       "id                               0\n",
       "year                             0\n",
       "loan_limit                    3344\n",
       "gender                           0\n",
       "approv_in_adv                  908\n",
       "loan_type                        0\n",
       "loan_purpose                   134\n",
       "credit_worthiness                0\n",
       "open_credit                      0\n",
       "business_or_commercial           0\n",
       "loan_amount                      0\n",
       "rate_of_interest             36439\n",
       "interest_rate_spread         36639\n",
       "upfront_charges              39642\n",
       "term                            41\n",
       "neg_ammortization              121\n",
       "interest_only                    0\n",
       "lump_sum_payment                 0\n",
       "property_value               15098\n",
       "construction_type                0\n",
       "occupancy_type                   0\n",
       "secured_by                       0\n",
       "total_units                      0\n",
       "income                        9150\n",
       "credit_type                      0\n",
       "credit_score                     0\n",
       "co-applicant_credit_type         0\n",
       "age                            200\n",
       "submission_of_application      200\n",
       "ltv                          15098\n",
       "region                           0\n",
       "security_type                    0\n",
       "status                           0\n",
       "dtir1                        24121\n",
       "dtype: int64"
      ]
     },
     "execution_count": 9,
     "metadata": {},
     "output_type": "execute_result"
    }
   ],
   "source": [
    "df.isnull().sum()"
   ]
  },
  {
   "cell_type": "markdown",
   "id": "fc6d7a66",
   "metadata": {},
   "source": [
    "- We will deeply analyze null values in the section 'Preprocessing' and fill them with specific strategies. Now, we explore the data. "
   ]
  },
  {
   "cell_type": "code",
   "execution_count": 15,
   "id": "edd47e97",
   "metadata": {},
   "outputs": [],
   "source": [
    "# Convert \"Status\" column to categorical\n",
    "df['status'] = df['status'].astype('category')\n",
    "\n",
    "# Define the mapping for replacement\n",
    "status_mapping = {0: 'Not Approved', 1: 'Approved'}\n",
    "\n",
    "# Replace the numeric values with labels\n",
    "df['status'] = df['status'].replace(status_mapping)\n"
   ]
  },
  {
   "cell_type": "markdown",
   "id": "e0712403",
   "metadata": {},
   "source": [
    "## Data Insights- Visualizations"
   ]
  },
  {
   "cell_type": "code",
   "execution_count": 16,
   "id": "81583f5c",
   "metadata": {},
   "outputs": [
    {
     "data": {
      "image/png": "[encoded data removed]",
      "text/plain": [
       "<Figure size 1000x600 with 1 Axes>"
      ]
     },
     "metadata": {},
     "output_type": "display_data"
    }
   ],
   "source": [
    "import seaborn as sns\n",
    "import matplotlib.pyplot as plt\n",
    "\n",
    "plt.figure(figsize=(10, 6))\n",
    "sns.countplot(data=df, x='loan_purpose', palette='deep')\n",
    "plt.title('Loan Purpose Counts')\n",
    "plt.xlabel('Loan Purpose')\n",
    "plt.ylabel('Count')\n",
    "plt.xticks(rotation=45)  \n",
    "\n",
    "# Show the plot\n",
    "plt.show()"
   ]
  },
  {
   "cell_type": "code",
   "execution_count": 17,
   "id": "dff706c4",
   "metadata": {},
   "outputs": [
    {
     "data": {
      "image/png": "[encoded data removed]",
      "text/plain": [
       "<Figure size 1000x600 with 1 Axes>"
      ]
     },
     "metadata": {},
     "output_type": "display_data"
    }
   ],
   "source": [
    "plt.figure(figsize=(10, 6))\n",
    "sns.countplot(data=df, x='loan_type')\n",
    "plt.xlabel('Loan Type')\n",
    "plt.ylabel('Count')\n",
    "plt.title('Count of Loans by Loan Type')\n",
    "plt.show()\n"
   ]
  },
  {
   "cell_type": "code",
   "execution_count": 18,
   "id": "1b28d5e3",
   "metadata": {},
   "outputs": [
    {
     "data": {
      "image/png": "[encoded data removed]",
      "text/plain": [
       "<Figure size 1000x800 with 2 Axes>"
      ]
     },
     "metadata": {},
     "output_type": "display_data"
    }
   ],
   "source": [
    "plt.figure(figsize=(10, 8))\n",
    "correlation_matrix = df[['loan_amount', 'income', 'credit_score', 'rate_of_interest']].corr()\n",
    "sns.heatmap(correlation_matrix, annot=True, cmap='coolwarm', fmt=\".2f\")\n",
    "plt.title('Correlation Heatmap')\n",
    "plt.show()"
   ]
  },
  {
   "cell_type": "markdown",
   "id": "0243df5e",
   "metadata": {},
   "source": [
    "These variables were chosen based on their importance in the context of loans and financial analysis. The goal is to gain insights into relationships and patterns within the data that are relevant to  analysis goals."
   ]
  },
  {
   "cell_type": "code",
   "execution_count": 22,
   "id": "7a50153b",
   "metadata": {},
   "outputs": [
    {
     "data": {
      "image/png": "[encoded data removed]",
      "text/plain": [
       "<Figure size 800x600 with 1 Axes>"
      ]
     },
     "metadata": {},
     "output_type": "display_data"
    }
   ],
   "source": [
    "# Set the style of the plot\n",
    "sns.set(style=\"whitegrid\")\n",
    "\n",
    "# Create a bar plot for the \"Status\" column\n",
    "plt.figure(figsize=(8, 6))\n",
    "sns.countplot(x=\"status\", data=df, palette=\"Set2\")\n",
    "\n",
    "# Add labels and a title\n",
    "plt.xlabel(\"Status\")\n",
    "plt.ylabel(\"Count\")\n",
    "plt.title(\"Distribution of Loan Approval Status\")\n",
    "\n",
    "# Show the plot\n",
    "plt.show()\n"
   ]
  },
  {
   "cell_type": "code",
   "execution_count": 21,
   "id": "e1366f33",
   "metadata": {},
   "outputs": [
    {
     "data": {
      "text/plain": [
       "Not Approved    0.753555\n",
       "Approved        0.246445\n",
       "Name: status, dtype: float64"
      ]
     },
     "execution_count": 21,
     "metadata": {},
     "output_type": "execute_result"
    }
   ],
   "source": [
    "df[\"status\"].value_counts(normalize=True)"
   ]
  },
  {
   "cell_type": "markdown",
   "id": "a986dadf",
   "metadata": {},
   "source": [
    "**Observation:** There is an imbalance between classes. Therefore, I will address this imbalance in the preprocessing and modeling steps to ensure robust model performance.\n",
    "\n",
    "\n",
    "\n",
    "\n",
    "\n"
   ]
  },
  {
   "cell_type": "markdown",
   "id": "6122ecee",
   "metadata": {},
   "source": [
    "##  Data Cleaning "
   ]
  },
  {
   "cell_type": "markdown",
   "id": "79cdf03f",
   "metadata": {},
   "source": [
    "**Gender Column:** Due to ethical considerations and potential legal restrictions (like those from the Equal Credit Opportunity Act in the U.S.), using gender as a predictor in loan default models is generally discouraged and could be considered discriminatory. Then drop the gender column."
   ]
  },
  {
   "cell_type": "code",
   "execution_count": 24,
   "id": "00581528",
   "metadata": {},
   "outputs": [],
   "source": [
    "# Drop the gender column \n",
    "df = df.drop(columns='gender')"
   ]
  },
  {
   "cell_type": "markdown",
   "id": "db426798",
   "metadata": {},
   "source": [
    "**Year Column:**  Let's analyze the effects of years. "
   ]
  },
  {
   "cell_type": "code",
   "execution_count": 26,
   "id": "b0ecfb39",
   "metadata": {},
   "outputs": [
    {
     "data": {
      "image/png": "[encoded data removed]",
      "text/plain": [
       "<Figure size 1200x600 with 1 Axes>"
      ]
     },
     "metadata": {},
     "output_type": "display_data"
    }
   ],
   "source": [
    "# Create a box plot for 'loan_amount' by year\n",
    "plt.figure(figsize=(12, 6))  # Adjust the figure size as needed\n",
    "sns.boxplot(x='year', y='loan_amount', data=df)\n",
    "plt.xlabel('Year')  # Set x-axis label\n",
    "plt.ylabel('Loan Amount')  # Set y-axis label\n",
    "plt.title('Box Plot of Loan Amount by Year')  # Set plot title\n",
    "\n",
    "plt.show()\n",
    "\n"
   ]
  },
  {
   "cell_type": "markdown",
   "id": "dbb3697f",
   "metadata": {},
   "source": [
    "Above boxplot shows that the data mainly has the info from 2019. Lets double-check whether there is an outlier. "
   ]
  },
  {
   "cell_type": "code",
   "execution_count": 27,
   "id": "b139c012",
   "metadata": {},
   "outputs": [
    {
     "name": "stdout",
     "output_type": "stream",
     "text": [
      "Number of rows with year different from 2019: 0\n"
     ]
    }
   ],
   "source": [
    " #Filter rows where 'year' is different from 2019\n",
    "different_years = df[df['year'] != 2019]\n",
    "\n",
    "# Count the number of rows\n",
    "count_different_years = len(different_years)\n",
    "\n",
    "# Print the count and the IDs\n",
    "print(f\"Number of rows with year different from 2019: {count_different_years}\")\n"
   ]
  },
  {
   "cell_type": "markdown",
   "id": "51f1f181",
   "metadata": {},
   "source": [
    "So, there is only one spesific year, 2019,  therefore we cannot use year in time-analysis. Drop it. \n"
   ]
  },
  {
   "cell_type": "code",
   "execution_count": 29,
   "id": "4744bd81",
   "metadata": {},
   "outputs": [],
   "source": [
    "df = df.drop(columns='year')"
   ]
  },
  {
   "cell_type": "markdown",
   "id": "fe126422",
   "metadata": {},
   "source": [
    "Here are more observations regarding construction_type and secured_by columns: "
   ]
  },
  {
   "cell_type": "code",
   "execution_count": 31,
   "id": "862c4d51",
   "metadata": {},
   "outputs": [
    {
     "name": "stdout",
     "output_type": "stream",
     "text": [
      "sb    148637\n",
      "mh        33\n",
      "Name: construction_type, dtype: int64\n",
      "home    148637\n",
      "land        33\n",
      "Name: secured_by, dtype: int64\n"
     ]
    }
   ],
   "source": [
    "construction_type_counts = df['construction_type'].value_counts()\n",
    "secured_by_counts=df['secured_by'].value_counts()\n",
    "# Print the counts\n",
    "print(construction_type_counts)\n",
    "print(secured_by_counts)\n"
   ]
  },
  {
   "cell_type": "markdown",
   "id": "75a23841",
   "metadata": {},
   "source": [
    "**Interpretation:** Dropping these columns helps address class imbalance issues and ensures that the model focuses on more informative and balanced features, leading to improved model performance and interpretability."
   ]
  },
  {
   "cell_type": "code",
   "execution_count": 32,
   "id": "e44b4e54",
   "metadata": {},
   "outputs": [],
   "source": [
    "df.drop(['id','secured_by', 'construction_type'], axis=1, inplace=True)\n"
   ]
  },
  {
   "cell_type": "code",
   "execution_count": 50,
   "id": "19d8e0b3",
   "metadata": {},
   "outputs": [
    {
     "name": "stdout",
     "output_type": "stream",
     "text": [
      "1U    146480\n",
      "2U      1477\n",
      "3U       393\n",
      "4U       320\n",
      "Name: total_units, dtype: int64\n"
     ]
    }
   ],
   "source": [
    "total_units_counts = df['total_units'].value_counts()\n",
    "\n",
    "print(total_units_counts)\n"
   ]
  },
  {
   "cell_type": "markdown",
   "id": "36d0376a",
   "metadata": {},
   "source": [
    " - I will address class imbalance during preprocessing to retain the 'total_units' column and enhance model performance."
   ]
  },
  {
   "cell_type": "code",
   "execution_count": 51,
   "id": "64dc0ecc",
   "metadata": {},
   "outputs": [
    {
     "name": "stdout",
     "output_type": "stream",
     "text": [
      "<class 'pandas.core.frame.DataFrame'>\n",
      "RangeIndex: 148670 entries, 0 to 148669\n",
      "Data columns (total 29 columns):\n",
      " #   Column                     Non-Null Count   Dtype   \n",
      "---  ------                     --------------   -----   \n",
      " 0   loan_limit                 145326 non-null  object  \n",
      " 1   approv_in_adv              147762 non-null  object  \n",
      " 2   loan_type                  148670 non-null  object  \n",
      " 3   loan_purpose               148536 non-null  object  \n",
      " 4   credit_worthiness          148670 non-null  object  \n",
      " 5   open_credit                148670 non-null  object  \n",
      " 6   business_or_commercial     148670 non-null  object  \n",
      " 7   loan_amount                148670 non-null  int64   \n",
      " 8   rate_of_interest           112231 non-null  float64 \n",
      " 9   interest_rate_spread       112031 non-null  float64 \n",
      " 10  upfront_charges            109028 non-null  float64 \n",
      " 11  term                       148629 non-null  float64 \n",
      " 12  neg_ammortization          148549 non-null  object  \n",
      " 13  interest_only              148670 non-null  object  \n",
      " 14  lump_sum_payment           148670 non-null  object  \n",
      " 15  property_value             133572 non-null  float64 \n",
      " 16  occupancy_type             148670 non-null  object  \n",
      " 17  total_units                148670 non-null  object  \n",
      " 18  income                     139520 non-null  float64 \n",
      " 19  credit_type                148670 non-null  object  \n",
      " 20  credit_score               148670 non-null  int64   \n",
      " 21  co-applicant_credit_type   148670 non-null  object  \n",
      " 22  age                        148470 non-null  object  \n",
      " 23  submission_of_application  148470 non-null  object  \n",
      " 24  ltv                        133572 non-null  float64 \n",
      " 25  region                     148670 non-null  object  \n",
      " 26  security_type              148670 non-null  object  \n",
      " 27  status                     148670 non-null  category\n",
      " 28  dtir1                      124549 non-null  float64 \n",
      "dtypes: category(1), float64(8), int64(2), object(18)\n",
      "memory usage: 31.9+ MB\n"
     ]
    }
   ],
   "source": [
    "df.info()"
   ]
  },
  {
   "cell_type": "markdown",
   "id": "49be8e8a",
   "metadata": {},
   "source": [
    "## Quick Summary until now \n",
    "\n",
    "- Gender, ID, year, construction_type, secured_by are dropped. \n",
    "- There are missing values and I will fill these values in a Pipeline in the modelling stage.  "
   ]
  },
  {
   "cell_type": "markdown",
   "id": "7dddf506",
   "metadata": {},
   "source": [
    "## Preprocessing "
   ]
  },
  {
   "cell_type": "markdown",
   "id": "b16d5b6f",
   "metadata": {},
   "source": [
    "## Age is object!\n",
    "\n",
    "Credit Behavior by Age Group: Different age groups might exhibit distinct credit behaviors. For example, younger borrowers might have a different default risk compared to older ones due to factors like job stability, income levels, and financial obligations."
   ]
  },
  {
   "cell_type": "code",
   "execution_count": 62,
   "id": "144e2fb1",
   "metadata": {},
   "outputs": [],
   "source": [
    "# Convert age ranges to ordinal values\n",
    "# Convert all entries in 'age' to strings and handle NaN values\n",
    "df['age'] = df['age'].astype(str)\n",
    "\n",
    "df['age'] = df['age'].replace('nan', 'unknown')\n",
    "\n",
    "# Now we can sort the unique age range strings and create the ordinal mapping\n",
    "age_ranges = sorted(df['age'].unique())\n",
    "ordinal_age_mapping = {age_range: index for index, age_range in enumerate(age_ranges)}\n",
    "df['age_ordinal'] = df['age'].map(ordinal_age_mapping)\n"
   ]
  },
  {
   "cell_type": "markdown",
   "id": "63eaa8b2",
   "metadata": {},
   "source": [
    "**Remark: ** Note that the alternative approach to above code is creating a pipeline as below:\n",
    "*** \n",
    "#Define the encoding for the ordinal 'age' column\n",
    "\n",
    "ordinal_transformer = Pipeline(steps=[\n",
    "    ('ordinal', OrdinalEncoder(categories=[age_ranges]))  \n",
    "])\n",
    "***"
   ]
  },
  {
   "cell_type": "code",
   "execution_count": 67,
   "id": "79230864",
   "metadata": {},
   "outputs": [],
   "source": [
    "# Drop the original age column \n",
    "df = df.drop(columns=['age'])"
   ]
  },
  {
   "cell_type": "code",
   "execution_count": 68,
   "id": "6feeeb07",
   "metadata": {},
   "outputs": [
    {
     "name": "stdout",
     "output_type": "stream",
     "text": [
      "Categorical Columns:\n",
      "['loan_limit', 'approv_in_adv', 'loan_type', 'loan_purpose', 'credit_worthiness', 'open_credit', 'business_or_commercial', 'neg_ammortization', 'interest_only', 'lump_sum_payment', 'occupancy_type', 'total_units', 'credit_type', 'co-applicant_credit_type', 'submission_of_application', 'region', 'security_type']\n",
      "\n",
      "Numerical Columns:\n",
      "['loan_amount', 'rate_of_interest', 'interest_rate_spread', 'upfront_charges', 'term', 'property_value', 'income', 'credit_score', 'ltv', 'status', 'dtir1', 'age_ordinal']\n"
     ]
    }
   ],
   "source": [
    "# Identify categorical and numerical columns\n",
    "categorical_columns = df.select_dtypes(include=['object']).columns.tolist()\n",
    "numerical_columns = df.select_dtypes(exclude=['object']).columns.tolist()\n",
    "\n",
    "# Confirm the lists of categorical and numerical columns\n",
    "print(\"Categorical Columns:\")\n",
    "print(categorical_columns)\n",
    "print(\"\\nNumerical Columns:\")\n",
    "print(numerical_columns)\n"
   ]
  },
  {
   "cell_type": "markdown",
   "id": "1939afea",
   "metadata": {},
   "source": [
    "## Back to the missing values! Handling strategy.  "
   ]
  },
  {
   "cell_type": "code",
   "execution_count": 69,
   "id": "b75e354e",
   "metadata": {},
   "outputs": [
    {
     "data": {
      "text/plain": [
       "loan_limit                    2.249277\n",
       "approv_in_adv                 0.610749\n",
       "loan_type                     0.000000\n",
       "loan_purpose                  0.090133\n",
       "credit_worthiness             0.000000\n",
       "open_credit                   0.000000\n",
       "business_or_commercial        0.000000\n",
       "loan_amount                   0.000000\n",
       "rate_of_interest             24.509989\n",
       "interest_rate_spread         24.644515\n",
       "upfront_charges              26.664425\n",
       "term                          0.027578\n",
       "neg_ammortization             0.081388\n",
       "interest_only                 0.000000\n",
       "lump_sum_payment              0.000000\n",
       "property_value               10.155378\n",
       "occupancy_type                0.000000\n",
       "total_units                   0.000000\n",
       "income                        6.154571\n",
       "credit_type                   0.000000\n",
       "credit_score                  0.000000\n",
       "co-applicant_credit_type      0.000000\n",
       "submission_of_application     0.134526\n",
       "ltv                          10.155378\n",
       "region                        0.000000\n",
       "security_type                 0.000000\n",
       "status                        0.000000\n",
       "dtir1                        16.224524\n",
       "age_ordinal                   0.000000\n",
       "dtype: float64"
      ]
     },
     "execution_count": 69,
     "metadata": {},
     "output_type": "execute_result"
    }
   ],
   "source": [
    "(df.isnull().sum()/len(df))*100"
   ]
  },
  {
   "cell_type": "markdown",
   "id": "6a00a938",
   "metadata": {},
   "source": [
    "+ Given the missing data information, I want to have a dual approach of column-specific imputation coupled with pipeline integration. For columns with substantial missing values, such as rate_of_interest, Interest_rate_spread, Upfront_charges, property_value, LTV, and dtir1, an in-depth analysis to determine the appropriate imputation method is better.\n",
    "\n",
    "+ Then, I plan to systematize the chosen imputation methods within a ColumnTransformer, ensuring a consistent and automated application of these methods to both the training and testing sets.\n"
   ]
  },
  {
   "cell_type": "code",
   "execution_count": 70,
   "id": "7f209d57",
   "metadata": {},
   "outputs": [
    {
     "data": {
      "image/png": "[encoded data removed]",
      "text/plain": [
       "<Figure size 1800x500 with 3 Axes>"
      ]
     },
     "metadata": {},
     "output_type": "display_data"
    }
   ],
   "source": [
    "import matplotlib.pyplot as plt\n",
    "import seaborn as sns\n",
    "\n",
    "# Set up the matplotlib figure with a specified figure size\n",
    "plt.figure(figsize=(18, 5))\n",
    "\n",
    "# Histogram for 'rate_of_interest'\n",
    "plt.subplot(1, 3, 1)  # (rows, columns, panel number)\n",
    "sns.histplot(df['rate_of_interest'].dropna(), kde=True)\n",
    "plt.title('Distribution of Rate of Interest')\n",
    "\n",
    "# Histogram for 'interest_rate_spread'\n",
    "plt.subplot(1, 3, 2)\n",
    "sns.histplot(df['interest_rate_spread'].dropna(), kde=True)\n",
    "plt.title('Distribution of Interest Rate Spread')\n",
    "\n",
    "# Histogram for 'upfront_charges'\n",
    "plt.subplot(1, 3, 3)\n",
    "sns.histplot(df['upfront_charges'].dropna(), kde=True)\n",
    "plt.title('Distribution of Upfront Charges')\n",
    "\n",
    "# Adjust the layout and display the plot\n",
    "plt.tight_layout()\n",
    "plt.show()\n"
   ]
  },
  {
   "cell_type": "markdown",
   "id": "58ce9ccb",
   "metadata": {},
   "source": [
    "Explanation of above histograms: \n",
    "+ The \"Rate of Interest\" and \"Interest Rate Spread\" features, exhibiting normal distributions, are well-suited for mean imputation when addressing missing values. The mean is a reliable indicator of central tendency for symmetric distributions, offering a balanced central point that reflects the typical values of these features.\n",
    "\n",
    "+ Conversely, \"Upfront Charges\" display a right-skewed distribution, suggesting that a significant number of very high values are pulling the mean to the right. Therefore, the median, which is not swayed by such outliers, is a better choice for imputation. Using the median ensures that the imputed values align more closely with the most common range of the data, preserving its original distributional characteristics."
   ]
  },
  {
   "cell_type": "code",
   "execution_count": 71,
   "id": "1ddcfb7d",
   "metadata": {},
   "outputs": [
    {
     "data": {
      "image/png": "[encoded data removed]",
      "text/plain": [
       "<Figure size 1800x500 with 3 Axes>"
      ]
     },
     "metadata": {},
     "output_type": "display_data"
    }
   ],
   "source": [
    "# Set up the matplotlib figure with a specified figure size\n",
    "plt.figure(figsize=(18, 5))\n",
    "\n",
    "# Histogram for 'property_value'\n",
    "plt.subplot(1, 3, 1)  # (rows, columns, panel number)\n",
    "sns.histplot(df['property_value'].dropna(), kde=True)\n",
    "plt.title('Distribution of Property Value')\n",
    "\n",
    "# Histogram for 'LTV'\n",
    "plt.subplot(1, 3, 2)\n",
    "sns.histplot(df['ltv'].dropna(), kde=True)\n",
    "plt.title('Distribution of LTV')\n",
    "\n",
    "# Histogram for 'dtir1'\n",
    "plt.subplot(1, 3, 3)\n",
    "sns.histplot(df['dtir1'].dropna(), kde=True)\n",
    "plt.title('Distribution of dtir1')\n",
    "\n",
    "\n",
    "# Adjust the layout and display the plot\n",
    "plt.tight_layout()\n",
    "plt.show()\n"
   ]
  },
  {
   "cell_type": "markdown",
   "id": "087ee9dd",
   "metadata": {},
   "source": [
    "* We will have the similar approach explained for previous histograms. Detailed operations will be performed in the preprocess stage. "
   ]
  },
  {
   "cell_type": "code",
   "execution_count": 72,
   "id": "00032a95",
   "metadata": {},
   "outputs": [],
   "source": [
    "from sklearn.impute import SimpleImputer\n",
    "\n",
    "# Separate columns with different imputation strategies\n",
    "columns_to_fill_with_mean = ['rate_of_interest', 'interest_rate_spread', 'dtir1']\n",
    "columns_to_fill_with_median = ['upfront_charges', 'property_value', 'ltv', 'income']\n",
    "\n",
    "# Impute columns that need mean imputation\n",
    "mean_imputer = SimpleImputer(strategy='mean')\n",
    "df[columns_to_fill_with_mean] = mean_imputer.fit_transform(df[columns_to_fill_with_mean])\n",
    "\n",
    "# Impute columns that need median imputation\n",
    "median_imputer = SimpleImputer(strategy='median')\n",
    "df[columns_to_fill_with_median] = median_imputer.fit_transform(df[columns_to_fill_with_median])\n",
    "\n"
   ]
  },
  {
   "cell_type": "code",
   "execution_count": 73,
   "id": "494bcab6",
   "metadata": {},
   "outputs": [
    {
     "data": {
      "text/plain": [
       "loan_limit                   2.249277\n",
       "approv_in_adv                0.610749\n",
       "loan_type                    0.000000\n",
       "loan_purpose                 0.090133\n",
       "credit_worthiness            0.000000\n",
       "open_credit                  0.000000\n",
       "business_or_commercial       0.000000\n",
       "loan_amount                  0.000000\n",
       "rate_of_interest             0.000000\n",
       "interest_rate_spread         0.000000\n",
       "upfront_charges              0.000000\n",
       "term                         0.027578\n",
       "neg_ammortization            0.081388\n",
       "interest_only                0.000000\n",
       "lump_sum_payment             0.000000\n",
       "property_value               0.000000\n",
       "occupancy_type               0.000000\n",
       "total_units                  0.000000\n",
       "income                       0.000000\n",
       "credit_type                  0.000000\n",
       "credit_score                 0.000000\n",
       "co-applicant_credit_type     0.000000\n",
       "submission_of_application    0.134526\n",
       "ltv                          0.000000\n",
       "region                       0.000000\n",
       "security_type                0.000000\n",
       "status                       0.000000\n",
       "dtir1                        0.000000\n",
       "age_ordinal                  0.000000\n",
       "dtype: float64"
      ]
     },
     "execution_count": 73,
     "metadata": {},
     "output_type": "execute_result"
    }
   ],
   "source": [
    "(df.isnull().sum()/len(df))*100"
   ]
  },
  {
   "cell_type": "code",
   "execution_count": 101,
   "id": "bfeb3feb",
   "metadata": {},
   "outputs": [],
   "source": [
    "df.to_csv('data/df_cleaned.csv')"
   ]
  },
  {
   "cell_type": "markdown",
   "id": "530e0116",
   "metadata": {},
   "source": [
    "The features with major missing values are imputed. I will perform the imputing method for remaining features (low missing value percentages) in the pipeline design. "
   ]
  },
  {
   "cell_type": "code",
   "execution_count": 74,
   "id": "d03df804",
   "metadata": {},
   "outputs": [],
   "source": [
    "## The class for model evaluations \n",
    "\n",
    "class EvaluationMetrics:\n",
    "    #model_df =[]\n",
    "    model_df = pd.DataFrame(columns=['Model', 'Train Accuracy', 'Train Recall', 'Train Precision', 'Train F1-Score',\n",
    "                                              'Train Log Loss','Test Accuracy', 'Test Recall', 'Test Precision', 'Test F1-Score',\n",
    "                                              'Test Log Loss', 'Validation Accuracy', 'Validation Recall', 'Validation Precision',\n",
    "                                              'Validation F1-Score'])\n",
    "\n",
    "    def __init__(self, pipe, X_train, X_test, y_train, y_test, X_val, y_val):\n",
    "        self.pipe = pipe\n",
    "        self.X_train = X_train\n",
    "        self.X_test = X_test\n",
    "        self.y_train = y_train\n",
    "        self.y_test = y_test\n",
    "        self.X_val = X_val\n",
    "        self.y_val = y_val\n",
    "\n",
    "    def print_scores(self):\n",
    "        # Training set predictions\n",
    "        y_train_pred = self.pipe.predict(self.X_train)\n",
    "        y_train_pred_proba = self.pipe.predict_proba(self.X_train)\n",
    "        train_results_dict = {'accuracy': accuracy_score(self.y_train, y_train_pred),\n",
    "                              'recall': recall_score(self.y_train, y_train_pred, average='weighted'),\n",
    "                              'precision': precision_score(self.y_train, y_train_pred, average='weighted'),\n",
    "                              'f1_score': f1_score(self.y_train, y_train_pred, average='weighted'),\n",
    "                              'log_loss': log_loss(self.y_train, y_train_pred_proba)}\n",
    "\n",
    "        # Test set predictions\n",
    "        y_test_pred = self.pipe.predict(self.X_test)\n",
    "        y_test_pred_proba = self.pipe.predict_proba(self.X_test)\n",
    "        test_results_dict = {'accuracy': accuracy_score(self.y_test, y_test_pred),\n",
    "                             'recall': recall_score(self.y_test, y_test_pred, average='weighted'),\n",
    "                             'precision': precision_score(self.y_test, y_test_pred, average='weighted'),\n",
    "                             'f1_score': f1_score(self.y_test, y_test_pred, average='weighted'),\n",
    "                             'log_loss': log_loss(self.y_test, y_test_pred_proba)}\n",
    "\n",
    "        # Validation set predictions\n",
    "        y_val_pred = self.pipe.predict(self.X_val)\n",
    "        y_val_pred_proba = self.pipe.predict_proba(self.X_val)\n",
    "        val_results_dict = {'accuracy': accuracy_score(self.y_val, y_val_pred),\n",
    "                            'recall': recall_score(self.y_val, y_val_pred, average='weighted'),\n",
    "                            'precision': precision_score(self.y_val, y_val_pred, average='weighted'),\n",
    "                            'f1_score': f1_score(self.y_val, y_val_pred, average='weighted'),\n",
    "                            'log_loss': log_loss(self.y_val, y_val_pred_proba)}\n",
    "\n",
    "        return train_results_dict, test_results_dict, val_results_dict\n",
    "\n",
    "    def cross_validation(self, cv=5):\n",
    "        scores = cross_val_score(self.pipe, self.X_train, self.y_train, cv=cv, scoring='accuracy')\n",
    "        return np.mean(scores), np.std(scores)\n",
    "\n",
    "    # Plots ROC curve for all classes\n",
    "    def plot_roc_curve_ovr(self):\n",
    "        # Calculate FPR and TPR for each class (One-vs-Rest)\n",
    "        y_test_pred_proba = self.pipe.predict_proba(self.X_test)\n",
    "        n_classes = y_test_pred_proba.shape[1]\n",
    "        fpr = dict()\n",
    "        tpr = dict()\n",
    "        roc_auc = dict()\n",
    "        for i in range(n_classes):\n",
    "            fpr[i], tpr[i], _ = roc_curve(self.y_test, y_test_pred_proba[:, i], pos_label=i)\n",
    "\n",
    "        # Plot ROC curve for each class (One-vs-Rest)\n",
    "        plt.figure()\n",
    "        for i in range(n_classes):\n",
    "            plt.plot(fpr[i], tpr[i], label=f'Class {i}')\n",
    "        plt.plot([0, 1], [0, 1], 'k--')\n",
    "        plt.xlim([0.0, 1.0])\n",
    "        plt.ylim([0.0, 1.05])\n",
    "        plt.xlabel('False Positive Rate')\n",
    "        plt.ylabel('True Positive Rate')\n",
    "        plt.title('ROC Curve - One-vs-Rest')\n",
    "        plt.legend(loc=\"lower right\")\n",
    "        plt.show()\n",
    "\n",
    "    # Plots confusion matrix\n",
    "    def plot_confusion_matrix(self, y_train, y_train_pred):\n",
    "        cm = confusion_matrix(y_train, y_train_pred)\n",
    "        disp = ConfusionMatrixDisplay(confusion_matrix=cm)\n",
    "        disp.plot()\n",
    "        plt.show()\n",
    "\n",
    "    def record_results(self, model_name, train_results, test_results, val_results):\n",
    "        new_row = {'Model': model_name,\n",
    "               'Train Accuracy': train_results['accuracy'],\n",
    "               'Train Recall': train_results['recall'],\n",
    "               'Train Precision': train_results['precision'],\n",
    "               'Train F1-Score': train_results['f1_score'],\n",
    "               'Train Log Loss': train_results['log_loss'],\n",
    "               'Test Accuracy': test_results['accuracy'],\n",
    "               'Test Recall': test_results['recall'],\n",
    "               'Test Precision': test_results['precision'],\n",
    "               'Test F1-Score': test_results['f1_score'],\n",
    "               'Test Log Loss': test_results['log_loss'],\n",
    "               'Validation Accuracy': val_results['accuracy'],\n",
    "               'Validation Recall': val_results['recall'],\n",
    "               'Validation Precision': val_results['precision'],\n",
    "               'Validation F1-Score': val_results['f1_score'],\n",
    "               'Validation Log Loss': val_results['log_loss']}\n",
    "        new_row_df= pd.DataFrame(new_row, index=[0])\n",
    "        self.model_df = pd.concat([self.model_df, new_row_df],ignore_index=True)"
   ]
  },
  {
   "cell_type": "markdown",
   "id": "58a92811",
   "metadata": {},
   "source": [
    "## Dummmy Classifier "
   ]
  },
  {
   "cell_type": "code",
   "execution_count": 84,
   "id": "afe489b8",
   "metadata": {},
   "outputs": [
    {
     "data": {
      "text/html": [
       "<div>\n",
       "<style scoped>\n",
       "    .dataframe tbody tr th:only-of-type {\n",
       "        vertical-align: middle;\n",
       "    }\n",
       "\n",
       "    .dataframe tbody tr th {\n",
       "        vertical-align: top;\n",
       "    }\n",
       "\n",
       "    .dataframe thead th {\n",
       "        text-align: right;\n",
       "    }\n",
       "</style>\n",
       "<table border=\"1\" class=\"dataframe\">\n",
       "  <thead>\n",
       "    <tr style=\"text-align: right;\">\n",
       "      <th></th>\n",
       "      <th>Model</th>\n",
       "      <th>Train Accuracy</th>\n",
       "      <th>Train Recall</th>\n",
       "      <th>Train Precision</th>\n",
       "      <th>Train F1-Score</th>\n",
       "      <th>Train Log Loss</th>\n",
       "      <th>Test Accuracy</th>\n",
       "      <th>Test Recall</th>\n",
       "      <th>Test Precision</th>\n",
       "      <th>Test F1-Score</th>\n",
       "      <th>Test Log Loss</th>\n",
       "      <th>Validation Accuracy</th>\n",
       "      <th>Validation Recall</th>\n",
       "      <th>Validation Precision</th>\n",
       "      <th>Validation F1-Score</th>\n",
       "      <th>Validation Log Loss</th>\n",
       "    </tr>\n",
       "  </thead>\n",
       "  <tbody>\n",
       "    <tr>\n",
       "      <th>0</th>\n",
       "      <td>DummyModel</td>\n",
       "      <td>0.753559</td>\n",
       "      <td>0.753559</td>\n",
       "      <td>0.567852</td>\n",
       "      <td>0.647656</td>\n",
       "      <td>8.511759</td>\n",
       "      <td>0.753548</td>\n",
       "      <td>0.753548</td>\n",
       "      <td>0.567835</td>\n",
       "      <td>0.647641</td>\n",
       "      <td>8.512146</td>\n",
       "      <td>0.753548</td>\n",
       "      <td>0.753548</td>\n",
       "      <td>0.567835</td>\n",
       "      <td>0.647641</td>\n",
       "      <td>8.512146</td>\n",
       "    </tr>\n",
       "  </tbody>\n",
       "</table>\n",
       "</div>"
      ],
      "text/plain": [
       "        Model  Train Accuracy  Train Recall  Train Precision  Train F1-Score  \\\n",
       "0  DummyModel        0.753559      0.753559         0.567852        0.647656   \n",
       "\n",
       "   Train Log Loss  Test Accuracy  Test Recall  Test Precision  Test F1-Score  \\\n",
       "0        8.511759       0.753548     0.753548        0.567835       0.647641   \n",
       "\n",
       "   Test Log Loss  Validation Accuracy  Validation Recall  \\\n",
       "0       8.512146             0.753548           0.753548   \n",
       "\n",
       "   Validation Precision  Validation F1-Score  Validation Log Loss  \n",
       "0              0.567835             0.647641             8.512146  "
      ]
     },
     "execution_count": 84,
     "metadata": {},
     "output_type": "execute_result"
    }
   ],
   "source": [
    "from sklearn.model_selection import train_test_split\n",
    "from sklearn.dummy import DummyClassifier\n",
    "from sklearn.pipeline import Pipeline\n",
    "from sklearn.metrics import accuracy_score, log_loss, roc_curve\n",
    "from sklearn.metrics import confusion_matrix, ConfusionMatrixDisplay\n",
    "\n",
    "# Split the data into training, validation, and test sets\n",
    "X_train, X_temp, y_train, y_temp = train_test_split(\n",
    "    df.drop('status', axis=1),  # Drop the target variable to create features\n",
    "    df['status'],               # Target variable\n",
    "    random_state=0,             # Ensures reproducibility\n",
    "    test_size=0.4,              # Proportion of dataset to include in initial train split\n",
    "    stratify=df['status'],      # Ensures train and test sets have similar class distributions\n",
    "    shuffle=True                # Shuffles the data before splitting\n",
    ")\n",
    "\n",
    "# Further split the temporary data into validation and test sets\n",
    "X_val, X_test, y_val, y_test = train_test_split(\n",
    "    X_temp, y_temp,\n",
    "    random_state=0,             # Ensures reproducibility\n",
    "    test_size=0.5,              # Proportion of dataset to include in validation split\n",
    "    stratify=y_temp,            # Ensures validation and test sets have similar class distributions\n",
    "    shuffle=True                # Shuffles the data before splitting\n",
    ")\n",
    "\n",
    "# Create a pipeline with a dummy classifier\n",
    "pipeline_dummy = Pipeline([\n",
    "    ('dummy_classifier', DummyClassifier(strategy='most_frequent'))  # You can choose different strategies\n",
    "])\n",
    "\n",
    "# Train the pipeline (dummy classifier)\n",
    "pipeline_dummy.fit(X_train, y_train)\n",
    "\n",
    "# Make predictions on the test set\n",
    "y_pred = pipeline_dummy.predict(X_test)\n",
    "\n",
    "# Calculate accuracy as a baseline metric (replace with appropriate evaluation metrics)\n",
    "accuracy = accuracy_score(y_test, y_pred)\n",
    "\n",
    "\n",
    "# Now you can use EvaluationMetrics with X_train, X_test, y_train, y_test, X_val, y_val\n",
    "dummy_metrics = EvaluationMetrics(pipeline_dummy, X_train, X_test, y_train, y_test, X_val, y_val)\n",
    "train_results, test_results, val_results = dummy_metrics.print_scores()\n",
    "dummy_metrics.record_results('DummyModel', train_results, test_results, val_results)\n",
    "dummy_metrics.model_df\n"
   ]
  },
  {
   "cell_type": "markdown",
   "id": "bf043657",
   "metadata": {},
   "source": [
    "## Logistic Regression "
   ]
  },
  {
   "cell_type": "code",
   "execution_count": 103,
   "id": "1f4b51d0",
   "metadata": {},
   "outputs": [],
   "source": [
    "from sklearn.preprocessing import StandardScaler, OneHotEncoder\n",
    "from sklearn.linear_model import LogisticRegression\n",
    "from sklearn.impute import SimpleImputer\n",
    "from sklearn.compose import ColumnTransformer\n",
    "from imblearn.pipeline import Pipeline as ImbPipeline\n",
    "from imblearn.over_sampling import SMOTE\n",
    "\n",
    "# Define categorical and numerical features\n",
    "categorical_features = X_train.select_dtypes(include=['object']).columns.tolist()\n",
    "numerical_features = X_train.select_dtypes(include=['int64', 'float64']).columns.tolist()\n",
    "\n",
    "numerical_transformer = Pipeline(steps=[\n",
    "    ('imputer', SimpleImputer(strategy='median')),\n",
    "    ('scaler', StandardScaler())\n",
    "])\n",
    "\n",
    "categorical_transformer = Pipeline(steps=[\n",
    "    ('imputer', SimpleImputer(strategy='most_frequent')),\n",
    "    ('onehot', OneHotEncoder(handle_unknown='ignore'))\n",
    "])\n",
    "\n",
    "# Combine preprocessing steps\n",
    "preprocessor = ColumnTransformer(\n",
    "    transformers=[\n",
    "        ('num', numerical_transformer, numerical_features),\n",
    "        ('cat', categorical_transformer, categorical_features)  # Use categorical_features here\n",
    "    ])\n",
    "\n",
    "pipeline_lr = ImbPipeline(steps=[\n",
    "    ('preprocessor', preprocessor),\n",
    "    ('smote', SMOTE(random_state=42)),\n",
    "    ('classifier', LogisticRegression(random_state=42))\n",
    "])\n",
    "\n",
    "# Train the pipeline\n",
    "pipeline_lr.fit(X_train, y_train)\n",
    "\n",
    "# Make predictions on the test set\n",
    "y_pred = pipeline_lr.predict(X_test)\n"
   ]
  },
  {
   "cell_type": "code",
   "execution_count": 96,
   "id": "6d6fb775",
   "metadata": {},
   "outputs": [
    {
     "data": {
      "text/html": [
       "<div>\n",
       "<style scoped>\n",
       "    .dataframe tbody tr th:only-of-type {\n",
       "        vertical-align: middle;\n",
       "    }\n",
       "\n",
       "    .dataframe tbody tr th {\n",
       "        vertical-align: top;\n",
       "    }\n",
       "\n",
       "    .dataframe thead th {\n",
       "        text-align: right;\n",
       "    }\n",
       "</style>\n",
       "<table border=\"1\" class=\"dataframe\">\n",
       "  <thead>\n",
       "    <tr style=\"text-align: right;\">\n",
       "      <th></th>\n",
       "      <th>Model</th>\n",
       "      <th>Train Accuracy</th>\n",
       "      <th>Train Recall</th>\n",
       "      <th>Train Precision</th>\n",
       "      <th>Train F1-Score</th>\n",
       "      <th>Train Log Loss</th>\n",
       "      <th>Test Accuracy</th>\n",
       "      <th>Test Recall</th>\n",
       "      <th>Test Precision</th>\n",
       "      <th>Test F1-Score</th>\n",
       "      <th>Test Log Loss</th>\n",
       "      <th>Validation Accuracy</th>\n",
       "      <th>Validation Recall</th>\n",
       "      <th>Validation Precision</th>\n",
       "      <th>Validation F1-Score</th>\n",
       "      <th>Validation Log Loss</th>\n",
       "    </tr>\n",
       "  </thead>\n",
       "  <tbody>\n",
       "    <tr>\n",
       "      <th>0</th>\n",
       "      <td>Logistic Regression</td>\n",
       "      <td>0.836887</td>\n",
       "      <td>0.836887</td>\n",
       "      <td>0.839095</td>\n",
       "      <td>0.837906</td>\n",
       "      <td>0.410898</td>\n",
       "      <td>0.834129</td>\n",
       "      <td>0.834129</td>\n",
       "      <td>0.836938</td>\n",
       "      <td>0.835404</td>\n",
       "      <td>0.417851</td>\n",
       "      <td>0.833356</td>\n",
       "      <td>0.833356</td>\n",
       "      <td>0.835879</td>\n",
       "      <td>0.834512</td>\n",
       "      <td>0.41317</td>\n",
       "    </tr>\n",
       "  </tbody>\n",
       "</table>\n",
       "</div>"
      ],
      "text/plain": [
       "                 Model  Train Accuracy  Train Recall  Train Precision  \\\n",
       "0  Logistic Regression        0.836887      0.836887         0.839095   \n",
       "\n",
       "   Train F1-Score  Train Log Loss  Test Accuracy  Test Recall  Test Precision  \\\n",
       "0        0.837906        0.410898       0.834129     0.834129        0.836938   \n",
       "\n",
       "   Test F1-Score  Test Log Loss  Validation Accuracy  Validation Recall  \\\n",
       "0       0.835404       0.417851             0.833356           0.833356   \n",
       "\n",
       "   Validation Precision  Validation F1-Score  Validation Log Loss  \n",
       "0              0.835879             0.834512              0.41317  "
      ]
     },
     "execution_count": 96,
     "metadata": {},
     "output_type": "execute_result"
    }
   ],
   "source": [
    "lr_metrics = EvaluationMetrics(pipeline_lr, X_train, X_test, y_train, y_test, X_val, y_val)\n",
    "train_results, test_results, val_results = lr_metrics.print_scores()\n",
    "lr_metrics.record_results('Logistic Regression', train_results, test_results, val_results)\n",
    "lr_metrics.model_df\n"
   ]
  },
  {
   "cell_type": "markdown",
   "id": "7b67a9db",
   "metadata": {},
   "source": [
    "## Logistic Regression- Hyperparameter tuning (Grid Search) "
   ]
  },
  {
   "cell_type": "code",
   "execution_count": 107,
   "id": "c5287278",
   "metadata": {},
   "outputs": [
    {
     "ename": "KeyboardInterrupt",
     "evalue": "",
     "output_type": "error",
     "traceback": [
      "\u001b[1;31m---------------------------------------------------------------------------\u001b[0m",
      "\u001b[1;31mKeyboardInterrupt\u001b[0m                         Traceback (most recent call last)",
      "\u001b[1;32m~\\AppData\\Local\\Temp\\ipykernel_25032\\2122748793.py\u001b[0m in \u001b[0;36m<module>\u001b[1;34m\u001b[0m\n\u001b[0;32m     10\u001b[0m \u001b[1;33m\u001b[0m\u001b[0m\n\u001b[0;32m     11\u001b[0m \u001b[1;31m# Fit the GridSearchCV object to the training data\u001b[0m\u001b[1;33m\u001b[0m\u001b[1;33m\u001b[0m\u001b[0m\n\u001b[1;32m---> 12\u001b[1;33m \u001b[0mgrid_search_lr\u001b[0m\u001b[1;33m.\u001b[0m\u001b[0mfit\u001b[0m\u001b[1;33m(\u001b[0m\u001b[0mX_train\u001b[0m\u001b[1;33m,\u001b[0m \u001b[0my_train\u001b[0m\u001b[1;33m)\u001b[0m\u001b[1;33m\u001b[0m\u001b[1;33m\u001b[0m\u001b[0m\n\u001b[0m",
      "\u001b[1;32m~\\anaconda3\\lib\\site-packages\\sklearn\\model_selection\\_search.py\u001b[0m in \u001b[0;36mfit\u001b[1;34m(self, X, y, groups, **fit_params)\u001b[0m\n\u001b[0;32m    889\u001b[0m                 \u001b[1;32mreturn\u001b[0m \u001b[0mresults\u001b[0m\u001b[1;33m\u001b[0m\u001b[1;33m\u001b[0m\u001b[0m\n\u001b[0;32m    890\u001b[0m \u001b[1;33m\u001b[0m\u001b[0m\n\u001b[1;32m--> 891\u001b[1;33m             \u001b[0mself\u001b[0m\u001b[1;33m.\u001b[0m\u001b[0m_run_search\u001b[0m\u001b[1;33m(\u001b[0m\u001b[0mevaluate_candidates\u001b[0m\u001b[1;33m)\u001b[0m\u001b[1;33m\u001b[0m\u001b[1;33m\u001b[0m\u001b[0m\n\u001b[0m\u001b[0;32m    892\u001b[0m \u001b[1;33m\u001b[0m\u001b[0m\n\u001b[0;32m    893\u001b[0m             \u001b[1;31m# multimetric is determined here because in the case of a callable\u001b[0m\u001b[1;33m\u001b[0m\u001b[1;33m\u001b[0m\u001b[0m\n",
      "\u001b[1;32m~\\anaconda3\\lib\\site-packages\\sklearn\\model_selection\\_search.py\u001b[0m in \u001b[0;36m_run_search\u001b[1;34m(self, evaluate_candidates)\u001b[0m\n\u001b[0;32m   1390\u001b[0m     \u001b[1;32mdef\u001b[0m \u001b[0m_run_search\u001b[0m\u001b[1;33m(\u001b[0m\u001b[0mself\u001b[0m\u001b[1;33m,\u001b[0m \u001b[0mevaluate_candidates\u001b[0m\u001b[1;33m)\u001b[0m\u001b[1;33m:\u001b[0m\u001b[1;33m\u001b[0m\u001b[1;33m\u001b[0m\u001b[0m\n\u001b[0;32m   1391\u001b[0m         \u001b[1;34m\"\"\"Search all candidates in param_grid\"\"\"\u001b[0m\u001b[1;33m\u001b[0m\u001b[1;33m\u001b[0m\u001b[0m\n\u001b[1;32m-> 1392\u001b[1;33m         \u001b[0mevaluate_candidates\u001b[0m\u001b[1;33m(\u001b[0m\u001b[0mParameterGrid\u001b[0m\u001b[1;33m(\u001b[0m\u001b[0mself\u001b[0m\u001b[1;33m.\u001b[0m\u001b[0mparam_grid\u001b[0m\u001b[1;33m)\u001b[0m\u001b[1;33m)\u001b[0m\u001b[1;33m\u001b[0m\u001b[1;33m\u001b[0m\u001b[0m\n\u001b[0m\u001b[0;32m   1393\u001b[0m \u001b[1;33m\u001b[0m\u001b[0m\n\u001b[0;32m   1394\u001b[0m \u001b[1;33m\u001b[0m\u001b[0m\n",
      "\u001b[1;32m~\\anaconda3\\lib\\site-packages\\sklearn\\model_selection\\_search.py\u001b[0m in \u001b[0;36mevaluate_candidates\u001b[1;34m(candidate_params, cv, more_results)\u001b[0m\n\u001b[0;32m    836\u001b[0m                     )\n\u001b[0;32m    837\u001b[0m \u001b[1;33m\u001b[0m\u001b[0m\n\u001b[1;32m--> 838\u001b[1;33m                 out = parallel(\n\u001b[0m\u001b[0;32m    839\u001b[0m                     delayed(_fit_and_score)(\n\u001b[0;32m    840\u001b[0m                         \u001b[0mclone\u001b[0m\u001b[1;33m(\u001b[0m\u001b[0mbase_estimator\u001b[0m\u001b[1;33m)\u001b[0m\u001b[1;33m,\u001b[0m\u001b[1;33m\u001b[0m\u001b[1;33m\u001b[0m\u001b[0m\n",
      "\u001b[1;32m~\\anaconda3\\lib\\site-packages\\joblib\\parallel.py\u001b[0m in \u001b[0;36m__call__\u001b[1;34m(self, iterable)\u001b[0m\n\u001b[0;32m   1950\u001b[0m         \u001b[0mnext\u001b[0m\u001b[1;33m(\u001b[0m\u001b[0moutput\u001b[0m\u001b[1;33m)\u001b[0m\u001b[1;33m\u001b[0m\u001b[1;33m\u001b[0m\u001b[0m\n\u001b[0;32m   1951\u001b[0m \u001b[1;33m\u001b[0m\u001b[0m\n\u001b[1;32m-> 1952\u001b[1;33m         \u001b[1;32mreturn\u001b[0m \u001b[0moutput\u001b[0m \u001b[1;32mif\u001b[0m \u001b[0mself\u001b[0m\u001b[1;33m.\u001b[0m\u001b[0mreturn_generator\u001b[0m \u001b[1;32melse\u001b[0m \u001b[0mlist\u001b[0m\u001b[1;33m(\u001b[0m\u001b[0moutput\u001b[0m\u001b[1;33m)\u001b[0m\u001b[1;33m\u001b[0m\u001b[1;33m\u001b[0m\u001b[0m\n\u001b[0m\u001b[0;32m   1953\u001b[0m \u001b[1;33m\u001b[0m\u001b[0m\n\u001b[0;32m   1954\u001b[0m     \u001b[1;32mdef\u001b[0m \u001b[0m__repr__\u001b[0m\u001b[1;33m(\u001b[0m\u001b[0mself\u001b[0m\u001b[1;33m)\u001b[0m\u001b[1;33m:\u001b[0m\u001b[1;33m\u001b[0m\u001b[1;33m\u001b[0m\u001b[0m\n",
      "\u001b[1;32m~\\anaconda3\\lib\\site-packages\\joblib\\parallel.py\u001b[0m in \u001b[0;36m_get_outputs\u001b[1;34m(self, iterator, pre_dispatch)\u001b[0m\n\u001b[0;32m   1593\u001b[0m \u001b[1;33m\u001b[0m\u001b[0m\n\u001b[0;32m   1594\u001b[0m             \u001b[1;32mwith\u001b[0m \u001b[0mself\u001b[0m\u001b[1;33m.\u001b[0m\u001b[0m_backend\u001b[0m\u001b[1;33m.\u001b[0m\u001b[0mretrieval_context\u001b[0m\u001b[1;33m(\u001b[0m\u001b[1;33m)\u001b[0m\u001b[1;33m:\u001b[0m\u001b[1;33m\u001b[0m\u001b[1;33m\u001b[0m\u001b[0m\n\u001b[1;32m-> 1595\u001b[1;33m                 \u001b[1;32myield\u001b[0m \u001b[1;32mfrom\u001b[0m \u001b[0mself\u001b[0m\u001b[1;33m.\u001b[0m\u001b[0m_retrieve\u001b[0m\u001b[1;33m(\u001b[0m\u001b[1;33m)\u001b[0m\u001b[1;33m\u001b[0m\u001b[1;33m\u001b[0m\u001b[0m\n\u001b[0m\u001b[0;32m   1596\u001b[0m \u001b[1;33m\u001b[0m\u001b[0m\n\u001b[0;32m   1597\u001b[0m         \u001b[1;32mexcept\u001b[0m \u001b[0mGeneratorExit\u001b[0m\u001b[1;33m:\u001b[0m\u001b[1;33m\u001b[0m\u001b[1;33m\u001b[0m\u001b[0m\n",
      "\u001b[1;32m~\\anaconda3\\lib\\site-packages\\joblib\\parallel.py\u001b[0m in \u001b[0;36m_retrieve\u001b[1;34m(self)\u001b[0m\n\u001b[0;32m   1705\u001b[0m                 (self._jobs[0].get_status(\n\u001b[0;32m   1706\u001b[0m                     timeout=self.timeout) == TASK_PENDING)):\n\u001b[1;32m-> 1707\u001b[1;33m                 \u001b[0mtime\u001b[0m\u001b[1;33m.\u001b[0m\u001b[0msleep\u001b[0m\u001b[1;33m(\u001b[0m\u001b[1;36m0.01\u001b[0m\u001b[1;33m)\u001b[0m\u001b[1;33m\u001b[0m\u001b[1;33m\u001b[0m\u001b[0m\n\u001b[0m\u001b[0;32m   1708\u001b[0m                 \u001b[1;32mcontinue\u001b[0m\u001b[1;33m\u001b[0m\u001b[1;33m\u001b[0m\u001b[0m\n\u001b[0;32m   1709\u001b[0m \u001b[1;33m\u001b[0m\u001b[0m\n",
      "\u001b[1;31mKeyboardInterrupt\u001b[0m: "
     ]
    }
   ],
   "source": [
    "from sklearn.model_selection import GridSearchCV\n",
    "param_grid = {\n",
    "    'classifier__penalty': ['l1', 'l2'],         # Regularization penalty (L1 or L2)\n",
    "    'classifier__C': [0.001, 0.01, 0.1, 1.0],    # Inverse of regularization strength\n",
    "    'classifier__solver': ['liblinear', 'saga']  # Solver algorithm\n",
    "}\n",
    "\n",
    "# Create a GridSearchCV object\n",
    "grid_search_lr = GridSearchCV(pipeline_lr, param_grid, cv=5, scoring='roc_auc', n_jobs=-1)# Use all available CPU cores for parallel processing\n",
    "\n",
    "# Fit the GridSearchCV object to the training data\n",
    "grid_search_lr.fit(X_train, y_train)"
   ]
  },
  {
   "cell_type": "markdown",
   "id": "b0aa39ad",
   "metadata": {},
   "source": [
    "Best Hyperparameters:\n",
    "{'classifier__C': 1.0, 'classifier__penalty': 'l1', 'classifier__solver': 'liblinear'}\n",
    "Best Score (Accuracy): 0.8553620540836773\n"
   ]
  },
  {
   "cell_type": "code",
   "execution_count": 108,
   "id": "82d678dd",
   "metadata": {},
   "outputs": [],
   "source": [
    "from sklearn.pipeline import Pipeline\n",
    "\n",
    "# Define a pipeline with preprocessing and the logistic regression model\n",
    "best_lr_pipeline = Pipeline([\n",
    "    ('preprocessor', preprocessor),  # Your preprocessing steps\n",
    "    ('classifier', LogisticRegression(C=0.01, max_iter=100, penalty='l1', solver='liblinear'))  # Best parameters\n",
    "])\n",
    "\n",
    "# Fit the pipeline to the training data\n",
    "best_lr_pipeline.fit(X_train, y_train)\n",
    "\n",
    "# Make predictions using the pipeline\n",
    "y_pred = best_lr_pipeline.predict(X_test)\n",
    "\n"
   ]
  },
  {
   "cell_type": "code",
   "execution_count": 112,
   "id": "d3b06ec7",
   "metadata": {},
   "outputs": [
    {
     "data": {
      "text/html": [
       "<div>\n",
       "<style scoped>\n",
       "    .dataframe tbody tr th:only-of-type {\n",
       "        vertical-align: middle;\n",
       "    }\n",
       "\n",
       "    .dataframe tbody tr th {\n",
       "        vertical-align: top;\n",
       "    }\n",
       "\n",
       "    .dataframe thead th {\n",
       "        text-align: right;\n",
       "    }\n",
       "</style>\n",
       "<table border=\"1\" class=\"dataframe\">\n",
       "  <thead>\n",
       "    <tr style=\"text-align: right;\">\n",
       "      <th></th>\n",
       "      <th>Model</th>\n",
       "      <th>Train Accuracy</th>\n",
       "      <th>Train Recall</th>\n",
       "      <th>Train Precision</th>\n",
       "      <th>Train F1-Score</th>\n",
       "      <th>Train Log Loss</th>\n",
       "      <th>Test Accuracy</th>\n",
       "      <th>Test Recall</th>\n",
       "      <th>Test Precision</th>\n",
       "      <th>Test F1-Score</th>\n",
       "      <th>Test Log Loss</th>\n",
       "      <th>Validation Accuracy</th>\n",
       "      <th>Validation Recall</th>\n",
       "      <th>Validation Precision</th>\n",
       "      <th>Validation F1-Score</th>\n",
       "      <th>Validation Log Loss</th>\n",
       "    </tr>\n",
       "  </thead>\n",
       "  <tbody>\n",
       "    <tr>\n",
       "      <th>0</th>\n",
       "      <td>Logistic Regression Grid Search</td>\n",
       "      <td>0.866449</td>\n",
       "      <td>0.866449</td>\n",
       "      <td>0.879365</td>\n",
       "      <td>0.849225</td>\n",
       "      <td>0.342808</td>\n",
       "      <td>0.864734</td>\n",
       "      <td>0.864734</td>\n",
       "      <td>0.87696</td>\n",
       "      <td>0.847274</td>\n",
       "      <td>0.348095</td>\n",
       "      <td>0.865608</td>\n",
       "      <td>0.865608</td>\n",
       "      <td>0.878293</td>\n",
       "      <td>0.848234</td>\n",
       "      <td>0.34499</td>\n",
       "    </tr>\n",
       "  </tbody>\n",
       "</table>\n",
       "</div>"
      ],
      "text/plain": [
       "                             Model  Train Accuracy  Train Recall  \\\n",
       "0  Logistic Regression Grid Search        0.866449      0.866449   \n",
       "\n",
       "   Train Precision  Train F1-Score  Train Log Loss  Test Accuracy  \\\n",
       "0         0.879365        0.849225        0.342808       0.864734   \n",
       "\n",
       "   Test Recall  Test Precision  Test F1-Score  Test Log Loss  \\\n",
       "0     0.864734         0.87696       0.847274       0.348095   \n",
       "\n",
       "   Validation Accuracy  Validation Recall  Validation Precision  \\\n",
       "0             0.865608           0.865608              0.878293   \n",
       "\n",
       "   Validation F1-Score  Validation Log Loss  \n",
       "0             0.848234              0.34499  "
      ]
     },
     "execution_count": 112,
     "metadata": {},
     "output_type": "execute_result"
    }
   ],
   "source": [
    "best_lr_metrics = EvaluationMetrics(best_lr_pipeline, X_train, X_test, y_train, y_test, X_val, y_val)\n",
    "train_results, test_results, val_results = best_lr_metrics.print_scores()\n",
    "best_lr_metrics.record_results('Logistic Regression Grid Search', train_results, test_results, val_results)\n",
    "best_lr_metrics.model_df\n"
   ]
  },
  {
   "cell_type": "markdown",
   "id": "3019ccb5",
   "metadata": {},
   "source": [
    "### Logistic Regression - Cross validation"
   ]
  },
  {
   "cell_type": "code",
   "execution_count": 114,
   "id": "873d4fc7",
   "metadata": {},
   "outputs": [
    {
     "name": "stdout",
     "output_type": "stream",
     "text": [
      "Mean Cross-Validation Score: 0.8657\n",
      "Standard Deviation of Cross-Validation Scores: 0.0018\n"
     ]
    }
   ],
   "source": [
    "# Create an instance of the EvaluationMetrics class\n",
    "cross_lr_metrics = EvaluationMetrics(best_lr_pipeline, X_train, X_test, y_train, y_test, X_val, y_val)\n",
    "\n",
    "# Perform cross-validation\n",
    "mean_cv_score, std_cv_score = cross_lr_metrics.cross_validation(cv=5)\n",
    "\n",
    "# Display the mean and standard deviation of cross-validation scores\n",
    "print(f\"Mean Cross-Validation Score: {mean_cv_score:.4f}\")\n",
    "print(f\"Standard Deviation of Cross-Validation Scores: {std_cv_score:.4f}\")\n"
   ]
  },
  {
   "cell_type": "markdown",
   "id": "e12b579b",
   "metadata": {},
   "source": [
    "**Interpretation:** A mean Cross-Validation Score of 0.8657 with a low Standard Deviation indicates that the logistic regression model is performing well on the training data and is relatively stable in its performance across different subsets of the data.  "
   ]
  },
  {
   "cell_type": "markdown",
   "id": "ab5738df",
   "metadata": {},
   "source": [
    "### Support Vector Machine (SVM) "
   ]
  },
  {
   "cell_type": "code",
   "execution_count": 120,
   "id": "1de6b46e",
   "metadata": {},
   "outputs": [
    {
     "data": {
      "text/plain": [
       "Pipeline(steps=[('preprocessor',\n",
       "                 ColumnTransformer(transformers=[('num',\n",
       "                                                  Pipeline(steps=[('imputer',\n",
       "                                                                   SimpleImputer(strategy='median')),\n",
       "                                                                  ('scaler',\n",
       "                                                                   StandardScaler())]),\n",
       "                                                  ['loan_amount',\n",
       "                                                   'rate_of_interest',\n",
       "                                                   'interest_rate_spread',\n",
       "                                                   'upfront_charges', 'term',\n",
       "                                                   'property_value', 'income',\n",
       "                                                   'credit_score', 'ltv',\n",
       "                                                   'dtir1', 'age_ordinal']),\n",
       "                                                 ('cat',\n",
       "                                                  Pipeline(steps=[('imputer',\n",
       "                                                                   S...\n",
       "                                                   'open_credit',\n",
       "                                                   'business_or_commercial',\n",
       "                                                   'neg_ammortization',\n",
       "                                                   'interest_only',\n",
       "                                                   'lump_sum_payment',\n",
       "                                                   'occupancy_type',\n",
       "                                                   'total_units', 'credit_type',\n",
       "                                                   'co-applicant_credit_type',\n",
       "                                                   'submission_of_application',\n",
       "                                                   'region',\n",
       "                                                   'security_type'])])),\n",
       "                ('smote', SMOTE(random_state=42)),\n",
       "                ('classifier',\n",
       "                 CalibratedClassifierCV(base_estimator=SVC(probability=True,\n",
       "                                                           random_state=42)))])"
      ]
     },
     "execution_count": 120,
     "metadata": {},
     "output_type": "execute_result"
    }
   ],
   "source": [
    "from sklearn.svm import SVC\n",
    "from sklearn.calibration import CalibratedClassifierCV\n",
    "\n",
    "# Create an SVM classifier with probability estimates enabled\n",
    "svm_classifier = SVC(probability=True, random_state=42)\n",
    "\n",
    "# Wrap the classifier in a CalibratedClassifierCV to enable probability estimates\n",
    "calibrated_classifier = CalibratedClassifierCV(svm_classifier, method='sigmoid')\n",
    "\n",
    "# Create an SVM pipeline with the calibrated classifier\n",
    "svm_pipeline = ImbPipeline(steps=[\n",
    "    ('preprocessor', preprocessor),  # Reuse the preprocessing steps\n",
    "    ('smote', SMOTE(random_state=42)),  # Reuse SMOTE\n",
    "    ('classifier', calibrated_classifier)  # Use the calibrated SVM classifier\n",
    "])\n",
    "\n",
    "# Train the SVM pipeline\n",
    "svm_pipeline.fit(X_train, y_train)\n"
   ]
  },
  {
   "cell_type": "code",
   "execution_count": 121,
   "id": "0ec4be09",
   "metadata": {},
   "outputs": [],
   "source": [
    "svm_metrics = EvaluationMetrics(svm_pipeline, X_train, X_test, y_train, y_test, X_val, y_val)\n",
    "train_results, test_results, val_results = svm_metrics.print_scores()\n",
    "svm_metrics.record_results('SVM', train_results, test_results, val_results)"
   ]
  },
  {
   "cell_type": "code",
   "execution_count": 122,
   "id": "3761f0cd",
   "metadata": {},
   "outputs": [
    {
     "data": {
      "text/html": [
       "<div>\n",
       "<style scoped>\n",
       "    .dataframe tbody tr th:only-of-type {\n",
       "        vertical-align: middle;\n",
       "    }\n",
       "\n",
       "    .dataframe tbody tr th {\n",
       "        vertical-align: top;\n",
       "    }\n",
       "\n",
       "    .dataframe thead th {\n",
       "        text-align: right;\n",
       "    }\n",
       "</style>\n",
       "<table border=\"1\" class=\"dataframe\">\n",
       "  <thead>\n",
       "    <tr style=\"text-align: right;\">\n",
       "      <th></th>\n",
       "      <th>Model</th>\n",
       "      <th>Train Accuracy</th>\n",
       "      <th>Train Recall</th>\n",
       "      <th>Train Precision</th>\n",
       "      <th>Train F1-Score</th>\n",
       "      <th>Train Log Loss</th>\n",
       "      <th>Test Accuracy</th>\n",
       "      <th>Test Recall</th>\n",
       "      <th>Test Precision</th>\n",
       "      <th>Test F1-Score</th>\n",
       "      <th>Test Log Loss</th>\n",
       "      <th>Validation Accuracy</th>\n",
       "      <th>Validation Recall</th>\n",
       "      <th>Validation Precision</th>\n",
       "      <th>Validation F1-Score</th>\n",
       "      <th>Validation Log Loss</th>\n",
       "    </tr>\n",
       "  </thead>\n",
       "  <tbody>\n",
       "    <tr>\n",
       "      <th>0</th>\n",
       "      <td>SVM</td>\n",
       "      <td>0.965214</td>\n",
       "      <td>0.965214</td>\n",
       "      <td>0.969352</td>\n",
       "      <td>0.965933</td>\n",
       "      <td>0.098066</td>\n",
       "      <td>0.964519</td>\n",
       "      <td>0.964519</td>\n",
       "      <td>0.968683</td>\n",
       "      <td>0.965253</td>\n",
       "      <td>0.099817</td>\n",
       "      <td>0.962804</td>\n",
       "      <td>0.962804</td>\n",
       "      <td>0.967328</td>\n",
       "      <td>0.963603</td>\n",
       "      <td>0.102248</td>\n",
       "    </tr>\n",
       "  </tbody>\n",
       "</table>\n",
       "</div>"
      ],
      "text/plain": [
       "  Model  Train Accuracy  Train Recall  Train Precision  Train F1-Score  \\\n",
       "0   SVM        0.965214      0.965214         0.969352        0.965933   \n",
       "\n",
       "   Train Log Loss  Test Accuracy  Test Recall  Test Precision  Test F1-Score  \\\n",
       "0        0.098066       0.964519     0.964519        0.968683       0.965253   \n",
       "\n",
       "   Test Log Loss  Validation Accuracy  Validation Recall  \\\n",
       "0       0.099817             0.962804           0.962804   \n",
       "\n",
       "   Validation Precision  Validation F1-Score  Validation Log Loss  \n",
       "0              0.967328             0.963603             0.102248  "
      ]
     },
     "execution_count": 122,
     "metadata": {},
     "output_type": "execute_result"
    }
   ],
   "source": [
    "svm_metrics.model_df"
   ]
  },
  {
   "cell_type": "markdown",
   "id": "6ff21638",
   "metadata": {},
   "source": [
    "### SVM- Cross Validation"
   ]
  },
  {
   "cell_type": "code",
   "execution_count": null,
   "id": "495a7353",
   "metadata": {},
   "outputs": [],
   "source": [
    "cross_svm_metrics = EvaluationMetrics(svm_pipeline, X_train, X_test, y_train, y_test, X_val, y_val)\n",
    "\n",
    "# Perform cross-validation\n",
    "mean_cv_score, std_cv_score = cross_svm_metrics.cross_validation(cv=5)\n",
    "\n",
    "# Display the mean and standard deviation of cross-validation scores\n",
    "print(f\"Mean Cross-Validation Score: {mean_cv_score:.4f}\")\n",
    "print(f\"Standard Deviation of Cross-Validation Scores: {std_cv_score:.4f}\")\n"
   ]
  },
  {
   "cell_type": "code",
   "execution_count": null,
   "id": "b9eb287c",
   "metadata": {},
   "outputs": [],
   "source": []
  }
 ],
 "metadata": {
  "kernelspec": {
   "display_name": "Python 3 (ipykernel)",
   "language": "python",
   "name": "python3"
  },
  "language_info": {
   "codemirror_mode": {
    "name": "ipython",
    "version": 3
   },
   "file_extension": ".py",
   "mimetype": "text/x-python",
   "name": "python",
   "nbconvert_exporter": "python",
   "pygments_lexer": "ipython3",
   "version": "3.9.13"
  }
 },
 "nbformat": 4,
 "nbformat_minor": 5
}
